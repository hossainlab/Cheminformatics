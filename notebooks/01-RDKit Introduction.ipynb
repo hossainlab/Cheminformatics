{
 "cells": [
  {
   "cell_type": "markdown",
   "metadata": {},
   "source": [
    "# Introduction to RDKit\n",
    "- Getting started with RDKit: https://www.rdkit.org/docs/GettingStartedInPython.html\n",
    "- https://molecularmodelingbasics.blogspot.com/2016/05/a-brief-introduction-to-smiles-and-inchi.html\n",
    "- Introduction to SMILES: https://molecularmodelingbasics.blogspot.com/2016/05/a-brief-introduction-to-smiles-and-inchi.html\n",
    "\n",
    "- SMILES GUI: http://www.cheminfo.org/flavor/malaria/Utilities/SMILES_generator___checker/index.html \n",
    "- SMARTS: https://www.daylight.com/dayhtml/doc/theory/theory.smarts.html\n",
    "- SMARTS examples: https://www.daylight.com/dayhtml_tutorials/languages/smarts/smarts_examples.html\n",
    "- Jan H. Jensen: https://sites.google.com/view/ml-basics/home"
   ]
  },
  {
   "cell_type": "code",
   "execution_count": 1,
   "metadata": {
    "executionInfo": {
     "elapsed": 1737,
     "status": "ok",
     "timestamp": 1604928520081,
     "user": {
      "displayName": "Jubayer Hossain",
      "photoUrl": "",
      "userId": "09476131118034287558"
     },
     "user_tz": -360
    },
    "id": "XK9J-FGyg4CC"
   },
   "outputs": [],
   "source": [
    "# import librray\n",
    "from rdkit import Chem \n",
    "from rdkit.Chem import Draw\n",
    "from rdkit.Chem.Draw import IPythonConsole\n",
    "from rdkit.Chem import  Descriptors\n",
    "from rdkit.Chem import AllChem \n",
    "from rdkit import DataStructs\n",
    "import numpy as np "
   ]
  },
  {
   "cell_type": "code",
   "execution_count": 2,
   "metadata": {
    "colab": {
     "base_uri": "https://localhost:8080/",
     "height": 167
    },
    "executionInfo": {
     "elapsed": 1691,
     "status": "ok",
     "timestamp": 1604928526711,
     "user": {
      "displayName": "Jubayer Hossain",
      "photoUrl": "",
      "userId": "09476131118034287558"
     },
     "user_tz": -360
    },
    "id": "ozmxhOAug6zB",
    "outputId": "0e2f3773-5161-4480-862d-12f39188a649"
   },
   "outputs": [
    {
     "data": {
      "image/png": "[encoded data removed]",
      "text/plain": [
       "<rdkit.Chem.rdchem.Mol at 0x7fcdb0513cb0>"
      ]
     },
     "execution_count": 2,
     "metadata": {},
     "output_type": "execute_result"
    }
   ],
   "source": [
    "# Molecules from smiles \n",
    "mol = Chem.MolFromSmiles('CCCCC')\n",
    "mol "
   ]
  },
  {
   "cell_type": "code",
   "execution_count": 3,
   "metadata": {
    "colab": {
     "base_uri": "https://localhost:8080/"
    },
    "executionInfo": {
     "elapsed": 719,
     "status": "ok",
     "timestamp": 1604930284890,
     "user": {
      "displayName": "Jubayer Hossain",
      "photoUrl": "",
      "userId": "09476131118034287558"
     },
     "user_tz": -360
    },
    "id": "l-7814OQS_oK",
    "outputId": "1d0ba532-f076-401f-955a-4e62be776477"
   },
   "outputs": [
    {
     "data": {
      "text/plain": [
       "5"
      ]
     },
     "execution_count": 3,
     "metadata": {},
     "output_type": "execute_result"
    }
   ],
   "source": [
    "# number of atoms \n",
    "mol.GetNumAtoms() "
   ]
  },
  {
   "cell_type": "code",
   "execution_count": 4,
   "metadata": {
    "colab": {
     "base_uri": "https://localhost:8080/"
    },
    "executionInfo": {
     "elapsed": 1016,
     "status": "ok",
     "timestamp": 1604930314613,
     "user": {
      "displayName": "Jubayer Hossain",
      "photoUrl": "",
      "userId": "09476131118034287558"
     },
     "user_tz": -360
    },
    "id": "Aw36FevNTM_j",
    "outputId": "7a4a78b7-3bc2-4e8f-b84b-e73d74d26b2a"
   },
   "outputs": [
    {
     "data": {
      "text/plain": [
       "4"
      ]
     },
     "execution_count": 4,
     "metadata": {},
     "output_type": "execute_result"
    }
   ],
   "source": [
    "# number of bonds \n",
    "mol.GetNumBonds() "
   ]
  },
  {
   "cell_type": "code",
   "execution_count": 5,
   "metadata": {
    "colab": {
     "base_uri": "https://localhost:8080/"
    },
    "executionInfo": {
     "elapsed": 1233,
     "status": "ok",
     "timestamp": 1604930355245,
     "user": {
      "displayName": "Jubayer Hossain",
      "photoUrl": "",
      "userId": "09476131118034287558"
     },
     "user_tz": -360
    },
    "id": "hsG754xVTNCr",
    "outputId": "0534d9d3-76c6-4048-e657-62f1c8671469"
   },
   "outputs": [
    {
     "data": {
      "text/plain": [
       "<rdkit.Chem.rdchem.RingInfo at 0x7fcdb04bdd00>"
      ]
     },
     "execution_count": 5,
     "metadata": {},
     "output_type": "execute_result"
    }
   ],
   "source": [
    "# molecule info \n",
    "mol.GetRingInfo() "
   ]
  },
  {
   "cell_type": "code",
   "execution_count": 6,
   "metadata": {
    "colab": {
     "base_uri": "https://localhost:8080/"
    },
    "executionInfo": {
     "elapsed": 937,
     "status": "ok",
     "timestamp": 1604930399356,
     "user": {
      "displayName": "Jubayer Hossain",
      "photoUrl": "",
      "userId": "09476131118034287558"
     },
     "user_tz": -360
    },
    "id": "NrZ5xUF-TS0V",
    "outputId": "a63ca87b-3a00-41e0-e534-3e275a0a193b"
   },
   "outputs": [
    {
     "data": {
      "text/plain": [
       "5"
      ]
     },
     "execution_count": 6,
     "metadata": {},
     "output_type": "execute_result"
    }
   ],
   "source": [
    "# number of heavy atoms \n",
    "mol.GetNumHeavyAtoms()"
   ]
  },
  {
   "cell_type": "code",
   "execution_count": 7,
   "metadata": {
    "colab": {
     "base_uri": "https://localhost:8080/",
     "height": 34
    },
    "executionInfo": {
     "elapsed": 730,
     "status": "ok",
     "timestamp": 1601891719145,
     "user": {
      "displayName": "Jubayer Hossain",
      "photoUrl": "",
      "userId": "09476131118034287558"
     },
     "user_tz": -360
    },
    "id": "b3qBbjIrqd4O",
    "outputId": "32361c6a-74e9-4948-8eee-0d8000fbddf8"
   },
   "outputs": [
    {
     "data": {
      "text/plain": [
       "rdkit.Chem.rdchem.Mol"
      ]
     },
     "execution_count": 7,
     "metadata": {},
     "output_type": "execute_result"
    }
   ],
   "source": [
    "# type: rdkit object  \n",
    "type(mol)"
   ]
  },
  {
   "cell_type": "code",
   "execution_count": 8,
   "metadata": {
    "colab": {
     "base_uri": "https://localhost:8080/",
     "height": 35
    },
    "executionInfo": {
     "elapsed": 765,
     "status": "ok",
     "timestamp": 1601891746355,
     "user": {
      "displayName": "Jubayer Hossain",
      "photoUrl": "",
      "userId": "09476131118034287558"
     },
     "user_tz": -360
    },
    "id": "8LyeJKUXh3xs",
    "outputId": "28762582-89ca-4770-8116-fc5b9314b634"
   },
   "outputs": [
    {
     "data": {
      "text/plain": [
       "'CCCCC'"
      ]
     },
     "execution_count": 8,
     "metadata": {},
     "output_type": "execute_result"
    }
   ],
   "source": [
    "# Molecules to smiles \n",
    "smiles = Chem.MolToSmiles(mol)\n",
    "smiles "
   ]
  },
  {
   "cell_type": "code",
   "execution_count": 9,
   "metadata": {
    "colab": {
     "base_uri": "https://localhost:8080/",
     "height": 34
    },
    "executionInfo": {
     "elapsed": 1217,
     "status": "ok",
     "timestamp": 1601573679504,
     "user": {
      "displayName": "Jubayer Hossain",
      "photoUrl": "",
      "userId": "09476131118034287558"
     },
     "user_tz": -360
    },
    "id": "HMQE_5vxqisy",
    "outputId": "38ba7e7a-4102-43f1-c432-a82e9efbbb28"
   },
   "outputs": [
    {
     "data": {
      "text/plain": [
       "str"
      ]
     },
     "execution_count": 9,
     "metadata": {},
     "output_type": "execute_result"
    }
   ],
   "source": [
    "# type:string object \n",
    "type(smiles)"
   ]
  },
  {
   "cell_type": "code",
   "execution_count": 10,
   "metadata": {
    "colab": {
     "base_uri": "https://localhost:8080/",
     "height": 34
    },
    "executionInfo": {
     "elapsed": 873,
     "status": "ok",
     "timestamp": 1601891761843,
     "user": {
      "displayName": "Jubayer Hossain",
      "photoUrl": "",
      "userId": "09476131118034287558"
     },
     "user_tz": -360
    },
    "id": "58XNdvEriELU",
    "outputId": "20cdf978-a692-4993-8972-7b8f1e268e55"
   },
   "outputs": [
    {
     "data": {
      "text/plain": [
       "72.151"
      ]
     },
     "execution_count": 10,
     "metadata": {},
     "output_type": "execute_result"
    }
   ],
   "source": [
    "# Molecular Weight\n",
    "mw = Descriptors.MolWt(mol)\n",
    "mw "
   ]
  },
  {
   "cell_type": "code",
   "execution_count": 11,
   "metadata": {
    "id": "kfdIRP13iPeq"
   },
   "outputs": [],
   "source": [
    "# Smiles list\n",
    "# https://en.wikipedia.org/wiki/Glycine\n",
    "# https://en.wikipedia.org/wiki/Phenylalanine\n",
    "# https://en.wikipedia.org/wiki/Histidine\n",
    "# https://en.wikipedia.org/wiki/Cysteine\n",
    "smiles_list =   [\"C(C(=O)O)N\", \"N[C@@H](CC1=CC=CC=C1)C(O)=O\", \n",
    "                 \"O=C([C@H](CC1=CNC=N1)N)O\", \"C([C@@H](C(=O)O)N)S\"] "
   ]
  },
  {
   "cell_type": "code",
   "execution_count": 14,
   "metadata": {
    "colab": {
     "base_uri": "https://localhost:8080/",
     "height": 217
    },
    "executionInfo": {
     "elapsed": 1018,
     "status": "ok",
     "timestamp": 1601891881471,
     "user": {
      "displayName": "Jubayer Hossain",
      "photoUrl": "",
      "userId": "09476131118034287558"
     },
     "user_tz": -360
    },
    "id": "3WKQe2e0jTzY",
    "outputId": "1bdf14f0-40cf-4c4b-9988-e8e48765c941"
   },
   "outputs": [
    {
     "data": {
      "image/png": "[encoded data removed]",
      "text/plain": [
       "<IPython.core.display.Image object>"
      ]
     },
     "execution_count": 14,
     "metadata": {},
     "output_type": "execute_result"
    }
   ],
   "source": [
    "mol_list = []\n",
    "for smiles in smiles_list: \n",
    "  mol = Chem.MolFromSmiles(smiles)\n",
    "  mol_list.append(mol) \n",
    "\n",
    "# Draw molecular image \n",
    "img = Draw.MolsToGridImage(mol_list)  \n",
    "img "
   ]
  },
  {
   "cell_type": "code",
   "execution_count": 15,
   "metadata": {},
   "outputs": [
    {
     "data": {
      "image/png": "[encoded data removed]",
      "text/plain": [
       "<IPython.core.display.Image object>"
      ]
     },
     "execution_count": 15,
     "metadata": {},
     "output_type": "execute_result"
    }
   ],
   "source": [
    "mol_list = []\n",
    "for smiles in smiles_list: \n",
    "    mol = Chem.MolFromSmiles(smiles)\n",
    "    mol_list.append(mol) \n",
    "\n",
    "# Draw molecular image \n",
    "img = Draw.MolsToGridImage(mol_list, molsPerRow=4)  \n",
    "img "
   ]
  },
  {
   "cell_type": "code",
   "execution_count": 16,
   "metadata": {
    "colab": {
     "base_uri": "https://localhost:8080/",
     "height": 167
    },
    "executionInfo": {
     "elapsed": 1373,
     "status": "ok",
     "timestamp": 1601573721335,
     "user": {
      "displayName": "Jubayer Hossain",
      "photoUrl": "",
      "userId": "09476131118034287558"
     },
     "user_tz": -360
    },
    "id": "D13SOYRov0e1",
    "outputId": "c7565d8d-d843-409c-e927-bdda31a92487"
   },
   "outputs": [
    {
     "data": {
      "image/png": "[encoded data removed]",
      "text/plain": [
       "<rdkit.Chem.rdchem.Mol at 0x7fcd846c0e40>"
      ]
     },
     "execution_count": 16,
     "metadata": {},
     "output_type": "execute_result"
    }
   ],
   "source": [
    "# Slicing Molecules \n",
    "glycine = mol_list[0]\n",
    "glycine"
   ]
  },
  {
   "cell_type": "code",
   "execution_count": 17,
   "metadata": {
    "colab": {
     "base_uri": "https://localhost:8080/",
     "height": 167
    },
    "executionInfo": {
     "elapsed": 992,
     "status": "ok",
     "timestamp": 1601573723220,
     "user": {
      "displayName": "Jubayer Hossain",
      "photoUrl": "",
      "userId": "09476131118034287558"
     },
     "user_tz": -360
    },
    "id": "wmPLXmHlv0m_",
    "outputId": "eb2c40c2-6486-4a54-eccd-200e928d0c4c"
   },
   "outputs": [
    {
     "data": {
      "image/png": "[encoded data removed]",
      "text/plain": [
       "<rdkit.Chem.rdchem.Mol at 0x7fcd858e09e0>"
      ]
     },
     "execution_count": 17,
     "metadata": {},
     "output_type": "execute_result"
    }
   ],
   "source": [
    "phenylalanine = mol_list[1]\n",
    "phenylalanine"
   ]
  },
  {
   "cell_type": "code",
   "execution_count": 19,
   "metadata": {
    "colab": {
     "base_uri": "https://localhost:8080/",
     "height": 85
    },
    "executionInfo": {
     "elapsed": 1274,
     "status": "ok",
     "timestamp": 1601573725441,
     "user": {
      "displayName": "Jubayer Hossain",
      "photoUrl": "",
      "userId": "09476131118034287558"
     },
     "user_tz": -360
    },
    "id": "wwU4Vj6bkYju",
    "outputId": "62c15363-0c8a-449e-8eed-7cb17ee8df66"
   },
   "outputs": [
    {
     "name": "stdout",
     "output_type": "stream",
     "text": [
      "False\n",
      "False\n",
      "False\n",
      "True\n"
     ]
    }
   ],
   "source": [
    "# Pattern Matching \n",
    "pattern = Chem.MolFromSmiles('S')\n",
    "for mol in mol_list: \n",
    "  print(mol.HasSubstructMatch(pattern)) "
   ]
  },
  {
   "cell_type": "code",
   "execution_count": 20,
   "metadata": {
    "colab": {
     "base_uri": "https://localhost:8080/",
     "height": 85
    },
    "executionInfo": {
     "elapsed": 1013,
     "status": "ok",
     "timestamp": 1601573727319,
     "user": {
      "displayName": "Jubayer Hossain",
      "photoUrl": "",
      "userId": "09476131118034287558"
     },
     "user_tz": -360
    },
    "id": "KmVBdihAkc9_",
    "outputId": "88d53dc3-e30c-4456-eb96-09c4e7d84063"
   },
   "outputs": [
    {
     "name": "stdout",
     "output_type": "stream",
     "text": [
      "True\n",
      "True\n",
      "True\n",
      "True\n"
     ]
    }
   ],
   "source": [
    "# Pattern Matching\n",
    "pattern = Chem.MolFromSmiles('C')\n",
    "for mol in mol_list: \n",
    "  print(mol.HasSubstructMatch(pattern)) "
   ]
  },
  {
   "cell_type": "code",
   "execution_count": 21,
   "metadata": {
    "colab": {
     "base_uri": "https://localhost:8080/",
     "height": 85
    },
    "executionInfo": {
     "elapsed": 873,
     "status": "ok",
     "timestamp": 1601573729153,
     "user": {
      "displayName": "Jubayer Hossain",
      "photoUrl": "",
      "userId": "09476131118034287558"
     },
     "user_tz": -360
    },
    "id": "rtYs26uJmghC",
    "outputId": "2e5df19c-2f5e-415e-af8a-d61f80ccbf75"
   },
   "outputs": [
    {
     "name": "stdout",
     "output_type": "stream",
     "text": [
      "True\n",
      "True\n",
      "True\n",
      "True\n"
     ]
    }
   ],
   "source": [
    "# Pattern Matching \n",
    "pattern = Chem.MolFromSmiles('C(=O)O')\n",
    "for mol in mol_list: \n",
    "  print(mol.HasSubstructMatch(pattern)) "
   ]
  },
  {
   "cell_type": "code",
   "execution_count": 22,
   "metadata": {
    "colab": {
     "base_uri": "https://localhost:8080/",
     "height": 85
    },
    "executionInfo": {
     "elapsed": 952,
     "status": "ok",
     "timestamp": 1601573730970,
     "user": {
      "displayName": "Jubayer Hossain",
      "photoUrl": "",
      "userId": "09476131118034287558"
     },
     "user_tz": -360
    },
    "id": "UY3sK7XXuOKT",
    "outputId": "8123acc4-5c65-4382-e0ef-1b48930e13c8"
   },
   "outputs": [
    {
     "name": "stdout",
     "output_type": "stream",
     "text": [
      "False\n",
      "True\n",
      "True\n",
      "True\n"
     ]
    }
   ],
   "source": [
    "# Pattern Matching \n",
    "pattern = Chem.MolFromSmiles('CC(N)C')\n",
    "for mol in mol_list: \n",
    "  print(mol.HasSubstructMatch(pattern)) "
   ]
  },
  {
   "cell_type": "code",
   "execution_count": 24,
   "metadata": {
    "colab": {
     "base_uri": "https://localhost:8080/",
     "height": 85
    },
    "executionInfo": {
     "elapsed": 876,
     "status": "ok",
     "timestamp": 1601573732748,
     "user": {
      "displayName": "Jubayer Hossain",
      "photoUrl": "",
      "userId": "09476131118034287558"
     },
     "user_tz": -360
    },
    "id": "H7JNGicnuhbb",
    "outputId": "b6de17ee-af4a-469c-d971-3012752153dc"
   },
   "outputs": [
    {
     "name": "stdout",
     "output_type": "stream",
     "text": [
      "False\n",
      "True\n",
      "True\n",
      "False\n"
     ]
    }
   ],
   "source": [
    "# Pattern Matching: Smart \n",
    "pattern = Chem.MolFromSmarts('[r]') \n",
    "for mol in mol_list: \n",
    "  print(mol.HasSubstructMatch(pattern)) "
   ]
  }
 ],
 "metadata": {
  "colab": {
   "name": "01-RDKit Introduction.ipynb",
   "provenance": [],
   "toc_visible": true
  },
  "kernelspec": {
   "display_name": "Python 3",
   "language": "python",
   "name": "python3"
  },
  "language_info": {
   "codemirror_mode": {
    "name": "ipython",
    "version": 3
   },
   "file_extension": ".py",
   "mimetype": "text/x-python",
   "name": "python",
   "nbconvert_exporter": "python",
   "pygments_lexer": "ipython3",
   "version": "3.8.3"
  },
  "latex_envs": {
   "LaTeX_envs_menu_present": true,
   "autoclose": false,
   "autocomplete": true,
   "bibliofile": "biblio.bib",
   "cite_by": "apalike",
   "current_citInitial": 1,
   "eqLabelWithNumbers": true,
   "eqNumInitial": 1,
   "hotkeys": {
    "equation": "Ctrl-E",
    "itemize": "Ctrl-I"
   },
   "labels_anchors": false,
   "latex_user_defs": false,
   "report_style_numbering": false,
   "user_envs_cfg": false
  }
 },
 "nbformat": 4,
 "nbformat_minor": 1
}
